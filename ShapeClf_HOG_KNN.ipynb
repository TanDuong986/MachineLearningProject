{
  "cells": [
    {
      "cell_type": "markdown",
      "metadata": {
        "id": "view-in-github",
        "colab_type": "text"
      },
      "source": [
        "<a href=\"https://colab.research.google.com/github/TanDuong986/MachineLearningProject/blob/master/ShapeClf_HOG_KNN.ipynb\" target=\"_parent\"><img src=\"https://colab.research.google.com/assets/colab-badge.svg\" alt=\"Open In Colab\"/></a>"
      ]
    },
    {
      "cell_type": "code",
      "execution_count": null,
      "metadata": {
        "id": "LmGlBUYhRa-H"
      },
      "outputs": [],
      "source": [
        "import cv2\n",
        "import numpy as np\n",
        "import os\n",
        "from tqdm import tqdm\n",
        "import matplotlib.pyplot as plt\n",
        "from google.colab import drive\n",
        "drive.mount('/content/drive')"
      ]
    },
    {
      "cell_type": "code",
      "execution_count": null,
      "metadata": {
        "id": "JZNn-3IdMhfg"
      },
      "outputs": [],
      "source": [
        "# !unzip \"/content/drive/MyDrive/Colab Notebooks/dataset.zip\" -d \"/content\"\n"
      ]
    },
    {
      "cell_type": "code",
      "execution_count": null,
      "metadata": {
        "id": "hj7jIhb8w_mj"
      },
      "outputs": [],
      "source": [
        "path_img = '/content/output/Circle_19d9be1c-2a85-11ea-8123-8363a7ec19e6.png'\n",
        "img = cv2.imread(path_img)\n",
        "img_gray = cv2.cvtColor(img, cv2.COLOR_BGR2GRAY)\n",
        "plt.title(\"Gray Image\")\n",
        "plt.imshow(img_gray, cmap='gray')\n",
        "plt.show()\n"
      ]
    },
    {
      "cell_type": "code",
      "execution_count": null,
      "metadata": {
        "id": "S5NS7WJg1aNa"
      },
      "outputs": [],
      "source": [
        "dim = (80, 80)\n",
        "def crop_img(img):\n",
        " img_gray = cv2.cvtColor(img, cv2.COLOR_BGR2GRAY)\n",
        " background = img_gray[0][0]\n",
        " extrude = np.argwhere(img_gray != background)\n",
        " x,y,w,h = cv2.boundingRect(extrude)\n",
        " pad = 8\n",
        " img_crop= img[max(0, x - pad):min(x+w+pad, 200), max(0, y -pad):min(y+h+pad, 200)]\n",
        " re_crop_im = cv2.resize(img_crop, dim, interpolation = cv2.INTER_AREA)\n",
        " return re_crop_im"
      ]
    },
    {
      "cell_type": "code",
      "execution_count": null,
      "metadata": {
        "id": "yKtHPQ2o1xLz"
      },
      "outputs": [],
      "source": [
        "img = cv2.imread('/content/output/Circle_19d9be1c-2a85-11ea-8123-8363a7ec19e6.png')\n",
        "img_crop = crop_img(img)\n",
        "plt.imshow(img_crop)"
      ]
    },
    {
      "cell_type": "code",
      "execution_count": null,
      "metadata": {
        "id": "ExgWc_AC3Uov"
      },
      "outputs": [],
      "source": [
        "from skimage import exposure\n",
        "from skimage import feature\n",
        "import cv2\n",
        "import matplotlib.pyplot as plt\n",
        "(H, hogImage) = feature.hog(img_crop, orientations=9, pixels_per_cell=(8,8),\n",
        "    cells_per_block=(2, 2), transform_sqrt=True, block_norm=\"L2\",\n",
        "    visualize=True)\n",
        "\n",
        "hogImage = exposure.rescale_intensity(hogImage, out_range=(0, 255))\n",
        "hogImage = hogImage.astype(\"uint8\")\n",
        " \n",
        "plt.imshow(hogImage)"
      ]
    },
    {
      "cell_type": "code",
      "execution_count": null,
      "metadata": {
        "colab": {
          "background_save": true
        },
        "id": "HKtG6wXtyjmD"
      },
      "outputs": [],
      "source": [
        "import os\n",
        "import glob\n",
        "import imutils\n",
        "from skimage import exposure\n",
        "from skimage import feature\n",
        "path = '/content/output'\n",
        "training_data = []\n",
        "label = []\n",
        "for i in os.listdir(path):\n",
        "  img = cv2.imread(os.path.join(path,i))\n",
        "  img_crop = crop_img(img)\n",
        "  (H, hogImage) = feature.hog(img_crop,orientations=9, pixels_per_cell=(8,8), cells_per_block=(2,2), block_norm= 'L2', visualize=True)\n",
        "  # update the data and labels\n",
        "  training_data.append(H)\n",
        "  label.append(i[0:5])"
      ]
    },
    {
      "cell_type": "code",
      "execution_count": null,
      "metadata": {
        "colab": {
          "background_save": true
        },
        "id": "YsGT8vE3eDFk",
        "outputId": "0375d225-9687-4bbb-bdca-23d17ab55757"
      },
      "outputs": [
        {
          "data": {
            "text/plain": [
              "90000"
            ]
          },
          "execution_count": 8,
          "metadata": {},
          "output_type": "execute_result"
        }
      ],
      "source": [
        "len(label)"
      ]
    },
    {
      "cell_type": "code",
      "execution_count": null,
      "metadata": {
        "colab": {
          "background_save": true
        },
        "id": "QUygM7s4vb-w",
        "outputId": "25a345ee-6f48-4ad0-d0c1-fcc6020d31b6"
      },
      "outputs": [
        {
          "data": {
            "text/plain": [
              "72000"
            ]
          },
          "execution_count": 9,
          "metadata": {},
          "output_type": "execute_result"
        }
      ],
      "source": [
        "int(len(label)*0.8)"
      ]
    },
    {
      "cell_type": "code",
      "execution_count": null,
      "metadata": {
        "colab": {
          "background_save": true
        },
        "id": "VRZ5PASwZ8tq"
      },
      "outputs": [],
      "source": [
        "import random\n",
        "training_data = np.array(training_data)\n",
        "label = np.array(label)\n",
        "x=np.random.permutation(len(label))\n",
        "a = int(len(label)*0.8)\n",
        "Training = training_data[x[:a]]\n",
        "Training_label = label[x[:a]]\n",
        "Testing = training_data[x[a:]]\n",
        "Testing_label = label[x[a:]]"
      ]
    },
    {
      "cell_type": "code",
      "execution_count": null,
      "metadata": {
        "colab": {
          "background_save": true
        },
        "id": "T0oTeMKQ-xEF",
        "outputId": "509dccd2-78b0-469e-de20-bae92bf645c2"
      },
      "outputs": [
        {
          "name": "stdout",
          "output_type": "stream",
          "text": [
            "0.9939444444444444\n"
          ]
        }
      ],
      "source": [
        "from sklearn.neighbors import KNeighborsClassifier\n",
        "KNN= KNeighborsClassifier(n_neighbors=3)\n",
        "KNN.fit(Training, Training_label)\n",
        "print(KNN.score(Testing, Testing_label))"
      ]
    },
    {
      "cell_type": "code",
      "execution_count": null,
      "metadata": {
        "colab": {
          "background_save": true
        },
        "id": "OcvsWmNuaTtD"
      },
      "outputs": [],
      "source": [
        "# #su dung thu vien sklearn\n",
        "# from sklearn.svm import SVC\n",
        "# from sklearn.pipeline import make_pipeline\n",
        "# from sklearn.preprocessing import StandardScaler\n",
        "# from sklearn.metrics import accuracy_score\n",
        "\n",
        "# clf_svm = make_pipeline(StandardScaler(), SVC(gamma='auto'))\n",
        "# clf_svm.fit(Training, Training_label)\n",
        "# y_pred_svm = clf_svm.predict(Testing)\n",
        "# print(\"Accuracy of SVM: %.2f %%\" %(100*accuracy_score(Testing_label, y_pred_svm)))"
      ]
    }
  ],
  "metadata": {
    "colab": {
      "provenance": [],
      "include_colab_link": true
    },
    "kernelspec": {
      "display_name": "Python 3",
      "name": "python3"
    },
    "language_info": {
      "name": "python"
    }
  },
  "nbformat": 4,
  "nbformat_minor": 0
}