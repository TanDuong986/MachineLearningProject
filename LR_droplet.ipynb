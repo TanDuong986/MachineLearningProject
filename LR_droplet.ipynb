{
  "nbformat": 4,
  "nbformat_minor": 0,
  "metadata": {
    "colab": {
      "provenance": [],
      "private_outputs": true
    },
    "kernelspec": {
      "name": "python3",
      "display_name": "Python 3"
    },
    "language_info": {
      "name": "python"
    }
  },
  "cells": [
    {
      "cell_type": "code",
      "execution_count": null,
      "metadata": {
        "id": "MBlKnyyiaYdT"
      },
      "outputs": [],
      "source": [
        "import cv2\n",
        "import pandas as pd\n",
        "import numpy as np\n",
        "import glob\n",
        "from matplotlib import pyplot as plt\n",
        "from pathlib import Path\n",
        "from sklearn.model_selection import train_test_split\n",
        "from sklearn.linear_model import LogisticRegression\n",
        "from google.colab import drive\n",
        "from skimage.io import imread_collection\n",
        "drive.mount('/content/drive')\n",
        "import os"
      ]
    },
    {
      "cell_type": "code",
      "source": [
        "dir_f = \"/content/drive/MyDrive/data_droplet/None\"\n",
        "dir_t = \"/content/drive/MyDrive/data_droplet/Particle\"\n",
        "gen_f = cv2.imread(\"/content/drive/MyDrive/data_droplet/None/none (1).jpg\",0)\n",
        "gen1f = np.array(gen_f) #chuyen thanh numpy array\n",
        "gen1f = gen1f.reshape(1,-1)  #trai phang\n",
        "datan_f = np.array(gen1f) #them vao lam array mau\n",
        "\n",
        "gen_t = cv2.imread(\"/content/drive/MyDrive/data_droplet/Particle/particle (1).jpg\",0)\n",
        "gen1t = np.array(gen_t)\n",
        "gen1t = gen1t.reshape(1,-1)\n",
        "datan_t = np.array(gen1t)"
      ],
      "metadata": {
        "id": "v0khx5mksaC-"
      },
      "execution_count": null,
      "outputs": []
    },
    {
      "cell_type": "code",
      "source": [
        "for file_name in os.listdir(dir_f): #559 false\n",
        "    img = cv2.imread(os.path.join(dir_f,file_name),0)\n",
        "    if img is not None:\n",
        "        anh_arr = np.array(img)\n",
        "        flat_ = anh_arr.reshape(1,-1)\n",
        "        datan_f = np.append(datan_f,flat_, axis = 0)\n",
        "      \n",
        "for file_name in os.listdir(dir_t): #519 false\n",
        "    img = cv2.imread(os.path.join(dir_t,file_name),0)\n",
        "    if img is not None:\n",
        "        anh_arr = np.array(img)\n",
        "        flat_ = anh_arr.reshape(1,-1)\n",
        "        datan_t = np.append(datan_t,flat_, axis = 0)\n"
      ],
      "metadata": {
        "id": "_6TLzLq2EgIs"
      },
      "execution_count": null,
      "outputs": []
    },
    {
      "cell_type": "code",
      "source": [
        "train_data = np.concatenate((datan_f,datan_t),axis = 0) # 559 false va 519 false 0 -> 1077 (1078 phan tu)"
      ],
      "metadata": {
        "id": "grOs1fRNDFFR"
      },
      "execution_count": null,
      "outputs": []
    },
    {
      "cell_type": "code",
      "source": [
        "label = np.full(train_data.shape[0],1,dtype = int)\n",
        "for i in range(train_data.shape[0]):\n",
        "  if i < datan_f.shape[0]:\n",
        "    label[i] = 0\n",
        "label.shape"
      ],
      "metadata": {
        "id": "3gjP0PDpDHXF"
      },
      "execution_count": null,
      "outputs": []
    },
    {
      "cell_type": "code",
      "source": [
        "x_train, x_test, y_train, y_test = train_test_split(train_data, label, test_size=0.15, random_state=0)"
      ],
      "metadata": {
        "id": "U3RVYZgdLl6g"
      },
      "execution_count": null,
      "outputs": []
    },
    {
      "cell_type": "code",
      "source": [
        "plt.figure(figsize=(20,4))\n",
        "for index, (image, label) in enumerate(zip(train_data[550:560], label[550:560])):\n",
        "    plt.subplot(1, 10, index + 1)\n",
        "    plt.imshow(np.reshape(image, (186,73)), cmap=plt.cm.gray)\n",
        "    plt.title('Label: %i\\n' % label, fontsize = 20)"
      ],
      "metadata": {
        "id": "bech1RT11-Tk"
      },
      "execution_count": null,
      "outputs": []
    },
    {
      "cell_type": "code",
      "source": [
        "# all parameters not specified are set to their defaults\n",
        "LR_Model = LogisticRegression()\n",
        "LR_Model.fit(x_train, y_train)"
      ],
      "metadata": {
        "id": "emNz8pd-HBXP"
      },
      "execution_count": null,
      "outputs": []
    },
    {
      "cell_type": "code",
      "source": [
        "# Returns a NumPy Array\n",
        "# Predict for One Observation (image)\n",
        "LR_Model.predict(x_test[0].reshape(1,-1))"
      ],
      "metadata": {
        "id": "7ePrB_zwHaqW"
      },
      "execution_count": null,
      "outputs": []
    },
    {
      "cell_type": "code",
      "source": [
        "test_range = range(20,30)\n",
        "predictions = LR_Model.predict(x_test[test_range])\n",
        "plt.figure(figsize=(20,4))\n",
        "for index, image in enumerate(zip(x_test[test_range])):\n",
        "    plt.subplot(1, 10, index + 1)\n",
        "    plt.imshow(np.reshape(image, (186,73)), cmap=plt.cm.gray)\n",
        "    plt.title('Predic %i\\n' % predictions[index], fontsize = 20)\n"
      ],
      "metadata": {
        "id": "4W8YO7ayHeXu"
      },
      "execution_count": null,
      "outputs": []
    },
    {
      "cell_type": "code",
      "source": [
        "score = LR_Model.score(x_test, y_test)\n",
        "print(\"Accuracy is {}%\".format(round(score*100,2)))"
      ],
      "metadata": {
        "id": "cdgk5TZoHU2u"
      },
      "execution_count": null,
      "outputs": []
    }
  ]
}