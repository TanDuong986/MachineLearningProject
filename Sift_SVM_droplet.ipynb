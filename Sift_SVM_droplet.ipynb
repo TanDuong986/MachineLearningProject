{
  "nbformat": 4,
  "nbformat_minor": 0,
  "metadata": {
    "colab": {
      "provenance": []
    },
    "kernelspec": {
      "name": "python3",
      "display_name": "Python 3"
    },
    "language_info": {
      "name": "python"
    }
  },
  "cells": [
    {
      "cell_type": "code",
      "execution_count": null,
      "metadata": {
        "colab": {
          "base_uri": "https://localhost:8080/"
        },
        "id": "fIxNrEUrMLCn",
        "outputId": "e25e31db-8f5d-40fe-8b96-9e850cd3688e"
      },
      "outputs": [
        {
          "output_type": "stream",
          "name": "stdout",
          "text": [
            "Drive already mounted at /content/drive; to attempt to forcibly remount, call drive.mount(\"/content/drive\", force_remount=True).\n"
          ]
        }
      ],
      "source": [
        "import os\n",
        "import cv2\n",
        "import numpy as np\n",
        "import matplotlib.pyplot as plt\n",
        "import glob\n",
        "from google.colab import drive\n",
        "drive.mount('/content/drive')"
      ]
    },
    {
      "cell_type": "code",
      "source": [
        "# !pip install opencv-python==3.4.2.17\n",
        "# !pip install opencv-contrib-python==3.4.2.17\n",
        "# !pip install ipython-autotime\n",
        "# %load_ext autotime"
      ],
      "metadata": {
        "id": "RUkRtWHWMqbC"
      },
      "execution_count": null,
      "outputs": []
    },
    {
      "cell_type": "code",
      "source": [
        "path_data = \"/content/drive/MyDrive/data_droplet\"\n",
        "class_ = os.listdir(path_data)\n"
      ],
      "metadata": {
        "id": "sDRFGvKyM8Sp"
      },
      "execution_count": null,
      "outputs": []
    },
    {
      "cell_type": "code",
      "source": [
        "def draw_kp(img,kp):\n",
        "  anh = img.copy()\n",
        "  anh=cv2.drawKeypoints(anh,kp,anh,flags=cv2.DRAW_MATCHES_FLAGS_DRAW_RICH_KEYPOINTS)\n",
        "  plt.imshow(cv2.cvtColor(anh,cv2.COLOR_BGR2RGB))\n",
        "\n"
      ],
      "metadata": {
        "id": "lZTgOzzJafH_"
      },
      "execution_count": null,
      "outputs": []
    },
    {
      "cell_type": "code",
      "source": [
        "sift = cv2.xfeatures2d.SIFT_create()\n",
        "label = []\n",
        "data = [] #data bao gom 4304 anh, 2232 anh none va 2072 anh co hat \n",
        "all_sift = []\n",
        "all_img_dir = []\n",
        "for label_name in class_:\n",
        "  sub_path = path_data+'/'+label_name\n",
        "  for filename in os.listdir(sub_path):\n",
        "    path_image = sub_path+'/'+filename\n",
        "    img = cv2.imread(path_image)\n",
        "    if img is not None:\n",
        "      label.append(label_name)\n",
        "      all_img_dir.append(path_image)\n",
        "      img = cv2.GaussianBlur(img,(1,1),0)\n",
        "      kp,des = sift.detectAndCompute(img, None)\n",
        "      for d in des:\n",
        "        all_sift.append(d)\n",
        "    "
      ],
      "metadata": {
        "id": "SdjVs4ooNc7q"
      },
      "execution_count": null,
      "outputs": []
    },
    {
      "cell_type": "code",
      "source": [
        "all_sift = np.array(all_sift)"
      ],
      "metadata": {
        "id": "5goK4ikydHEO"
      },
      "execution_count": null,
      "outputs": []
    },
    {
      "cell_type": "code",
      "source": [
        "all_sift.shape"
      ],
      "metadata": {
        "colab": {
          "base_uri": "https://localhost:8080/"
        },
        "id": "Dy_Td6aedNCt",
        "outputId": "ab8560a9-cb04-4448-9224-f78814471d37"
      },
      "execution_count": null,
      "outputs": [
        {
          "output_type": "execute_result",
          "data": {
            "text/plain": [
              "(74993, 128)"
            ]
          },
          "metadata": {},
          "execution_count": 60
        }
      ]
    },
    {
      "cell_type": "code",
      "source": [
        "len(label)"
      ],
      "metadata": {
        "colab": {
          "base_uri": "https://localhost:8080/"
        },
        "id": "JlsLQVu_nmz8",
        "outputId": "70ee537c-d220-4453-b7c3-5622462c6410"
      },
      "execution_count": null,
      "outputs": [
        {
          "output_type": "execute_result",
          "data": {
            "text/plain": [
              "4304"
            ]
          },
          "metadata": {},
          "execution_count": 61
        }
      ]
    },
    {
      "cell_type": "code",
      "source": [
        "from sklearn.cluster import KMeans\n",
        "#theo khao sat, anh khong co giot se co mean des = 18, anh co hat la 30\n",
        "number_of_cluster = 25\n",
        "kmean = KMeans(n_clusters=number_of_cluster, random_state=15).fit(all_sift)"
      ],
      "metadata": {
        "id": "gOYoCyDiQ04w"
      },
      "execution_count": null,
      "outputs": []
    },
    {
      "cell_type": "code",
      "source": [
        "all_img_dir = np.array(all_img_dir)\n",
        "label = np.array(label)\n",
        "data_size = all_img_dir.shape[0]\n",
        "test_size  = int(data_size*0.2)\n",
        "train_size = data_size - test_size\n",
        "entropy = np.random.permutation(data_size)"
      ],
      "metadata": {
        "id": "0d_99cfvks-_"
      },
      "execution_count": null,
      "outputs": []
    },
    {
      "cell_type": "code",
      "source": [
        "test_size"
      ],
      "metadata": {
        "colab": {
          "base_uri": "https://localhost:8080/"
        },
        "id": "HrYPxMLkiX9M",
        "outputId": "cea9b3cf-78bb-4b40-df6c-178a15aae6d6"
      },
      "execution_count": null,
      "outputs": [
        {
          "output_type": "execute_result",
          "data": {
            "text/plain": [
              "860"
            ]
          },
          "metadata": {},
          "execution_count": 64
        }
      ]
    },
    {
      "cell_type": "code",
      "source": [
        "train_img_bow = []\n",
        "for image in all_img_dir[entropy[0:train_size]]:\n",
        "    img = cv2.imread(image)\n",
        "    if img is not None:\n",
        "      img = cv2.GaussianBlur(img,(3,3),0)\n",
        "      kp, des = sift.detectAndCompute(img, None) # kp: keypoint, des: descriptors\n",
        "      histo = np.zeros(number_of_cluster) #\n",
        "      nkp = np.size(kp)  #nkp: number of keypoints\n",
        "      v=[]\n",
        "      des = np.array(des)\n",
        "      for d in des:\n",
        "          idx = kmean.predict(d.reshape(1,-1))\n",
        "          v.append(idx)\n",
        "          histo[idx] += 1\n",
        "          \n",
        "      histo=np.array(histo) # chuyen ve dang vector numpy\n",
        "      histo=histo/nkp # normalized\n",
        "\n",
        "      train_img_bow.append(histo)"
      ],
      "metadata": {
        "id": "zRY5VaKOb2qV"
      },
      "execution_count": null,
      "outputs": []
    },
    {
      "cell_type": "code",
      "source": [
        "len(train_img_bow)"
      ],
      "metadata": {
        "colab": {
          "base_uri": "https://localhost:8080/"
        },
        "id": "BJE4gXJ1obB1",
        "outputId": "f9362435-1c66-4c25-bb12-062d5e9c188e"
      },
      "execution_count": null,
      "outputs": [
        {
          "output_type": "execute_result",
          "data": {
            "text/plain": [
              "3444"
            ]
          },
          "metadata": {},
          "execution_count": 66
        }
      ]
    },
    {
      "cell_type": "code",
      "source": [
        "test_img_bow = []\n",
        "for image in all_img_dir[entropy[train_size:-1]]:\n",
        "    img = cv2.imread(image)\n",
        "    if img is not None:\n",
        "      img = cv2.GaussianBlur(img,(3,3),0)\n",
        "      kp, des = sift.detectAndCompute(img, None) # kp: keypoint, des: descriptors\n",
        "      histo = np.zeros(number_of_cluster) #\n",
        "      nkp = np.size(kp)  #nkp: number of keypoints\n",
        "      v=[]\n",
        "      des = np.array(des)\n",
        "      for d in des:\n",
        "          idx = kmean.predict(d.reshape(1,-1))\n",
        "          v.append(idx)\n",
        "          histo[idx] += 1\n",
        "          \n",
        "      histo=np.array(histo) # chuyen ve dang vector numpy\n",
        "      histo=histo/nkp # normalized\n",
        "    \n",
        "      test_img_bow.append(histo)\n"
      ],
      "metadata": {
        "id": "oH2BDzQup8xg"
      },
      "execution_count": null,
      "outputs": []
    },
    {
      "cell_type": "code",
      "source": [
        "len(label[entropy[0:train_size]])"
      ],
      "metadata": {
        "colab": {
          "base_uri": "https://localhost:8080/"
        },
        "id": "2kIZqq5qCmXG",
        "outputId": "0233ac84-405a-46bb-ce5f-aa27ed1f2ed7"
      },
      "execution_count": null,
      "outputs": [
        {
          "output_type": "execute_result",
          "data": {
            "text/plain": [
              "3444"
            ]
          },
          "metadata": {},
          "execution_count": 68
        }
      ]
    },
    {
      "cell_type": "code",
      "source": [
        "len(all_img_dir)"
      ],
      "metadata": {
        "colab": {
          "base_uri": "https://localhost:8080/"
        },
        "id": "Bzd-6FI4ig_7",
        "outputId": "a59e4d37-7da8-46b8-b3e6-8314e6d84c1f"
      },
      "execution_count": null,
      "outputs": [
        {
          "output_type": "execute_result",
          "data": {
            "text/plain": [
              "4304"
            ]
          },
          "metadata": {},
          "execution_count": 69
        }
      ]
    },
    {
      "cell_type": "code",
      "source": [
        "len(label)"
      ],
      "metadata": {
        "colab": {
          "base_uri": "https://localhost:8080/"
        },
        "id": "r7O4nMo9jNdj",
        "outputId": "143e9ee0-c594-470d-b284-882d55d9c4c0"
      },
      "execution_count": null,
      "outputs": [
        {
          "output_type": "execute_result",
          "data": {
            "text/plain": [
              "4304"
            ]
          },
          "metadata": {},
          "execution_count": 70
        }
      ]
    },
    {
      "cell_type": "markdown",
      "source": [
        "***Train Model***"
      ],
      "metadata": {
        "id": "wl_edQjO9O-r"
      }
    },
    {
      "cell_type": "code",
      "source": [
        "from sklearn.svm import SVC\n",
        "from sklearn.metrics import accuracy_score\n",
        "\n",
        "classifier = SVC(C=15.0,kernel='rbf',gamma='scale')\n",
        "classifier.fit(train_img_bow,label[entropy[0:train_size]])\n",
        "y_pred = classifier.predict(test_img_bow)\n",
        "print(\"Accuracy is : %.2f\"%(accuracy_score(label[entropy[train_size:-1]],y_pred)*100)+\" %\")"
      ],
      "metadata": {
        "colab": {
          "base_uri": "https://localhost:8080/"
        },
        "id": "9oKoe-g-Iec0",
        "outputId": "930c82b5-9e94-4848-a6e2-2e2eaf20447f"
      },
      "execution_count": null,
      "outputs": [
        {
          "output_type": "stream",
          "name": "stdout",
          "text": [
            "Accuracy is : 86.96 %\n"
          ]
        }
      ]
    },
    {
      "cell_type": "code",
      "source": [
        "train_size "
      ],
      "metadata": {
        "colab": {
          "base_uri": "https://localhost:8080/"
        },
        "id": "5Se5O9s6bT-y",
        "outputId": "8b92bb74-cfe3-4239-9f72-376d9ef285c5"
      },
      "execution_count": null,
      "outputs": [
        {
          "output_type": "execute_result",
          "data": {
            "text/plain": [
              "3444"
            ]
          },
          "metadata": {},
          "execution_count": 48
        }
      ]
    },
    {
      "cell_type": "code",
      "source": [
        "# from sklearn.neural_network import MLPClassifier\n",
        "# mlp = MLPClassifier(hidden_layer_sizes=100,activation='relu',verbose=True, max_iter=600000,tol=0.0001)\n",
        "# mlp.fit(train_img_bow,label[entropy[0:train_size]])\n",
        "# res=mlp.predict(test_img_bow)\n",
        "# print(accuracy_score(label[entropy[train_size:-1]],res))"
      ],
      "metadata": {
        "id": "-Fgk5As0L6Es"
      },
      "execution_count": null,
      "outputs": []
    },
    {
      "cell_type": "markdown",
      "source": [
        "**Kiểm thử **"
      ],
      "metadata": {
        "id": "ls6HWszquR0b"
      }
    },
    {
      "cell_type": "code",
      "source": [
        "im2 = cv2.imread(\"/content/drive/MyDrive/data_droplet/Particle/particle (15).jpg\")\n",
        "im3 = cv2.GaussianBlur(im2,(3,3),0)\n",
        "kp1,d1 = sift.detectAndCompute(im2, None)\n",
        "kp2,d2 = sift.detectAndCompute(im3, None)\n",
        "plt.imshow(cv2.cvtColor(im3,cv2.COLOR_BGR2RGB))"
      ],
      "metadata": {
        "colab": {
          "base_uri": "https://localhost:8080/",
          "height": 287
        },
        "id": "KqJLxf4iXq0s",
        "outputId": "8d5c93f4-7837-4db0-b00e-63ca25f138c0"
      },
      "execution_count": null,
      "outputs": [
        {
          "output_type": "execute_result",
          "data": {
            "text/plain": [
              "<matplotlib.image.AxesImage at 0x7fa8301ae280>"
            ]
          },
          "metadata": {},
          "execution_count": 49
        },
        {
          "output_type": "display_data",
          "data": {
            "text/plain": [
              "<Figure size 432x288 with 1 Axes>"
            ],
            "image/png": "[encoded data removed]"
          },
          "metadata": {
            "needs_background": "light"
          }
        }
      ]
    },
    {
      "cell_type": "code",
      "source": [
        "im3 = cv2.GaussianBlur(im2,(3,3),0)\n",
        "kp1,d1 = sift.detectAndCompute(im3, None) # tinh sift cua anh\n",
        "\n",
        "histo = np.zeros(number_of_cluster) # tinh % feature cua anh\n",
        "nkp = np.size(kp1)  #nkp: number of keypoints\n",
        "v=[]\n",
        "des = np.array(d1)\n",
        "for d in d1:\n",
        "    idx = kmean.predict(d.reshape(1,-1))\n",
        "    v.append(idx)\n",
        "    histo[idx] += 1\n",
        "histo=np.array(histo) # chuyen ve dang vector numpy\n",
        "histo=histo/nkp # normalized\n",
        "\n",
        "classifier.predict(histo.reshape(1,-1))"
      ],
      "metadata": {
        "colab": {
          "base_uri": "https://localhost:8080/"
        },
        "id": "uBSg0B9Kk7zk",
        "outputId": "2b6d8a59-b9bb-4c16-bb6e-c21599d44bda"
      },
      "execution_count": null,
      "outputs": [
        {
          "output_type": "execute_result",
          "data": {
            "text/plain": [
              "array(['Particle'], dtype='<U8')"
            ]
          },
          "metadata": {},
          "execution_count": 50
        }
      ]
    },
    {
      "cell_type": "code",
      "source": [
        "d1.shape"
      ],
      "metadata": {
        "id": "bxetJMcBs24L"
      },
      "execution_count": null,
      "outputs": []
    },
    {
      "cell_type": "code",
      "source": [
        "draw_kp(im2,kp1)\n",
        "print(len(kp2))"
      ],
      "metadata": {
        "id": "fx0P4TT_or-N",
        "colab": {
          "base_uri": "https://localhost:8080/",
          "height": 287
        },
        "outputId": "690718c4-45a4-4e48-8931-529e2d4e56f3"
      },
      "execution_count": null,
      "outputs": [
        {
          "output_type": "stream",
          "name": "stdout",
          "text": [
            "22\n"
          ]
        },
        {
          "output_type": "display_data",
          "data": {
            "text/plain": [
              "<Figure size 432x288 with 1 Axes>"
            ],
            "image/png": "[encoded data removed]"
          },
          "metadata": {
            "needs_background": "light"
          }
        }
      ]
    },
    {
      "cell_type": "markdown",
      "source": [
        "**Lưu lại bộ trọng số của bộ train KNN và SVM**\n",
        "\n",
        "---\n",
        "\n",
        "\n",
        "\n"
      ],
      "metadata": {
        "id": "BXZ_B3c3vM5o"
      }
    },
    {
      "cell_type": "code",
      "source": [
        "# import pickle\n",
        "# test_img_bow = np.array(test_img_bow).reshape(-1,25)\n",
        "# file_sift = '/content/drive/MyDrive/Colab Notebooks/sift_svm_clf_droplet.pkl'\n",
        "# # file_knn = '/content/knn_clf_feature.pkl'  \n",
        "# # with open(file_sift,'wb') as f:\n",
        "# #   pickle.dump(classifier,f)\n",
        "# # with open(file_knn,'wb') as f:\n",
        "# #   pickle.dump(kmean,f)\n",
        "# loaded_model = pickle.load(open(file_sift, 'rb'))\n",
        "# result = loaded_model.score(test_img_bow, label[entropy[train_size:-3]])"
      ],
      "metadata": {
        "id": "cePwlu5xcwul"
      },
      "execution_count": null,
      "outputs": []
    },
    {
      "cell_type": "markdown",
      "source": [
        "Hàm phát hiện bằng xử lý ảnh"
      ],
      "metadata": {
        "id": "UxQg_yghuK93"
      }
    },
    {
      "cell_type": "code",
      "source": [
        "def conan_old(tan):\n",
        "    gray = cv2.cvtColor(tan, cv2.COLOR_BGR2GRAY) # chuyen sang thang mau xam\n",
        "    gray = cv2.GaussianBlur(gray,(1,1),0) # lam mo hinh anh de loc nhieu\n",
        "    canny_cv = cv2.Canny(gray,600,1200,apertureSize=5,L2gradient= True) # lay vien\n",
        "    cn = cv2.dilate(canny_cv, None, iterations=3) # tang do day vien\n",
        "    cn = cv2.erode(cn, None, iterations=3) # bao mong do day vien\n",
        "    plt.imshow(canny_cv,cmap=\"gray\")\n",
        "    cnts, hierarchy = cv2.findContours(cn, cv2.RETR_TREE, cv2.CHAIN_APPROX_NONE) # lay countour\n",
        "    cnts = [x for x in cnts if cv2.contourArea(x) > 5 and cv2.contourArea(x)<100 and cv2.arcLength(x,False) > 40 ] # dieu kien de loai bo vien and cv2.arcLength(x,True) >5 and cv2.arcLength(x,True) <400\n",
        "    return len(cnts)\n",
        "def feed(img):\n",
        "    for i in range(img.shape[0]):\n",
        "        for j in range(img.shape[1]):\n",
        "            if img[i][j] >= 177 and img[i][j] <= 179:\n",
        "                img[i][j]+= 20\n",
        "            elif img[i][j] <=175 and img[i][j]  >= 160:\n",
        "                img[i][j] -= 30\n",
        "    return img\n",
        "\n",
        "\n",
        "def conan_new(tan):\n",
        "    consider = tan.copy()[:,:,1]\n",
        "    tet = feed(consider)\n",
        "    gray = cv2.cvtColor(tan, cv2.COLOR_BGR2GRAY) # chuyen sang thang mau xam\n",
        "    gray = cv2.GaussianBlur(gray,(1,1),0) # lam mo hinh anh de loc nhieu\n",
        "    canny_cv = cv2.Canny(gray,550,1200,apertureSize=5,L2gradient= True) # lay vien\n",
        "    plt.imshow(canny_cv,cmap=\"gray\")\n",
        "    cnts, hierarchy = cv2.findContours(canny_cv, cv2.RETR_TREE, cv2.CHAIN_APPROX_NONE) # lay countour\n",
        "    cnts = [x for x in cnts if cv2.contourArea(x) > 5 and cv2.arcLength(x,False) <80 ]  \n",
        "    return len(cnts)\n"
      ],
      "metadata": {
        "id": "4ZISKSkLnNhk"
      },
      "execution_count": null,
      "outputs": []
    },
    {
      "cell_type": "code",
      "source": [
        "y_pred_xla = []\n",
        "count_pred_0 = 0\n",
        "for i in all_img_dir[entropy[train_size:-1]]:\n",
        "  img = cv2.imread(i)\n",
        "  if conan_new(img) == 0:\n",
        "    y_pred_xla.append(\"None\")\n",
        "    count_pred_0+=1\n",
        "  else:\n",
        "    y_pred_xla.append(\"Particle\")\n",
        "y_pred_xla = np.array(y_pred_xla)\n",
        "print(count_pred_0)\n"
      ],
      "metadata": {
        "id": "-U1OD3R7oQZt"
      },
      "execution_count": null,
      "outputs": []
    },
    {
      "cell_type": "code",
      "source": [
        "y_pred.shape\n"
      ],
      "metadata": {
        "id": "-UFml8hfoxUx"
      },
      "execution_count": null,
      "outputs": []
    },
    {
      "cell_type": "code",
      "source": [
        "print(\"Accuracy is : %.2f\"%(accuracy_score(label[entropy[train_size:-1]],y_pred_xla)*100)+\" %\")"
      ],
      "metadata": {
        "id": "U2rdcjC3uhIH"
      },
      "execution_count": null,
      "outputs": []
    },
    {
      "cell_type": "code",
      "source": [
        "from sklearn import metrics\n",
        "confusion_matrix = metrics.confusion_matrix(label[entropy[train_size:-1]], y_pred_xla)\n",
        "cm_display = metrics.ConfusionMatrixDisplay(confusion_matrix = confusion_matrix, display_labels = [\"None\", \"Particle\"])\n",
        "cm_display.plot()"
      ],
      "metadata": {
        "id": "WXP2bDRjvf4l"
      },
      "execution_count": null,
      "outputs": []
    },
    {
      "cell_type": "code",
      "source": [
        "count_true_none =0\n",
        "for i in label[entropy[train_size:-1]]:\n",
        "  if i ==\"None\":\n",
        "    count_true_none+=1\n",
        "count_true_none"
      ],
      "metadata": {
        "id": "Q_LTn58vzUFX"
      },
      "execution_count": null,
      "outputs": []
    },
    {
      "cell_type": "code",
      "source": [
        "from sklearn import metrics\n",
        "confusion_matrix = metrics.confusion_matrix(label[entropy[train_size:-1]], y_pred)\n",
        "cm_display = metrics.ConfusionMatrixDisplay(confusion_matrix = confusion_matrix, display_labels = [\"None\", \"Particle\"])\n",
        "cm_display.plot()"
      ],
      "metadata": {
        "id": "Dw1uoWbe1lJR"
      },
      "execution_count": null,
      "outputs": []
    }
  ]
}